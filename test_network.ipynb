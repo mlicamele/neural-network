{
 "cells": [
  {
   "cell_type": "code",
   "execution_count": 1,
   "metadata": {},
   "outputs": [],
   "source": [
    "import pandas as pd\n",
    "import numpy as np\n",
    "from network import Network, Softmax, Relu, Dense, Tanh, get_accuracy"
   ]
  },
  {
   "cell_type": "code",
   "execution_count": 2,
   "metadata": {},
   "outputs": [],
   "source": [
    "# Get data in np array\n",
    "data = pd.read_csv(\"data/train.csv\")"
   ]
  },
  {
   "cell_type": "code",
   "execution_count": 3,
   "metadata": {},
   "outputs": [],
   "source": [
    "# Change format to np\n",
    "data = np.array(data)\n",
    "\n",
    "# Get shape of data and calculate where to split test set\n",
    "m, n = data.shape\n",
    "split = (int)(0.2 * m)"
   ]
  },
  {
   "cell_type": "code",
   "execution_count": 4,
   "metadata": {},
   "outputs": [],
   "source": [
    "# Randomize data order\n",
    "np.random.shuffle(data)\n",
    "\n",
    "# Get test data\n",
    "data_test = data[0:split].T\n",
    "y_test = data_test[0]\n",
    "X_test = data_test[1:n]\n",
    "X_test = X_test / 255"
   ]
  },
  {
   "cell_type": "code",
   "execution_count": 5,
   "metadata": {},
   "outputs": [],
   "source": [
    "# Get train data\n",
    "data_train = data[split:m].T\n",
    "y_train = data_train[0]\n",
    "X_train = data_train[1:n]\n",
    "X_train = X_train / 255"
   ]
  },
  {
   "cell_type": "code",
   "execution_count": 6,
   "metadata": {},
   "outputs": [],
   "source": [
    "net = Network(\n",
    "    [\n",
    "        Dense(784, 10),\n",
    "        Relu(),\n",
    "        Dense(10, 10),\n",
    "        Softmax()\n",
    "    ], \n",
    "    0.5,\n",
    "    1000\n",
    ")"
   ]
  },
  {
   "cell_type": "code",
   "execution_count": 7,
   "metadata": {},
   "outputs": [
    {
     "name": "stdout",
     "output_type": "stream",
     "text": [
      "Epoch 0\n",
      "Accuracy: 0.121875\n",
      "Preds:\t [6 9 5 5 2 5 2 9 5 6 6 5 6 5 3 5 6 5 5 5]\n",
      "Real:\t [8 8 9 0 2 6 0 7 3 2 0 9 9 4 1 8 5 4 3 6]\n",
      "\n",
      "Epoch 50\n",
      "Accuracy: 0.7347321428571428\n",
      "Preds:\t [9 8 9 0 0 6 0 7 5 2 0 9 4 9 1 8 5 9 5 6]\n",
      "Real:\t [8 8 9 0 2 6 0 7 3 2 0 9 9 4 1 8 5 4 3 6]\n",
      "\n",
      "Epoch 100\n",
      "Accuracy: 0.8163988095238095\n",
      "Preds:\t [9 8 9 0 0 6 0 7 5 2 0 9 9 4 1 8 5 9 3 6]\n",
      "Real:\t [8 8 9 0 2 6 0 7 3 2 0 9 9 4 1 8 5 4 3 6]\n",
      "\n",
      "Epoch 150\n",
      "Accuracy: 0.8508630952380952\n",
      "Preds:\t [9 8 9 0 0 6 0 7 8 2 0 9 9 4 1 8 5 9 3 6]\n",
      "Real:\t [8 8 9 0 2 6 0 7 3 2 0 9 9 4 1 8 5 4 3 6]\n",
      "\n",
      "Epoch 200\n",
      "Accuracy: 0.8691071428571429\n",
      "Preds:\t [9 8 9 0 2 6 0 7 8 2 0 9 9 4 1 8 5 9 3 6]\n",
      "Real:\t [8 8 9 0 2 6 0 7 3 2 0 9 9 4 1 8 5 4 3 6]\n",
      "\n",
      "Epoch 250\n",
      "Accuracy: 0.8789583333333333\n",
      "Preds:\t [9 8 9 0 2 6 0 7 8 2 0 9 9 4 1 8 5 9 3 6]\n",
      "Real:\t [8 8 9 0 2 6 0 7 3 2 0 9 9 4 1 8 5 4 3 6]\n",
      "\n",
      "Epoch 300\n",
      "Accuracy: 0.8870833333333333\n",
      "Preds:\t [9 8 9 0 2 6 0 7 8 2 0 9 9 4 1 8 5 9 3 6]\n",
      "Real:\t [8 8 9 0 2 6 0 7 3 2 0 9 9 4 1 8 5 4 3 6]\n",
      "\n",
      "Epoch 350\n",
      "Accuracy: 0.8929464285714286\n",
      "Preds:\t [9 8 9 0 2 6 0 7 8 2 0 9 9 4 1 8 5 9 3 6]\n",
      "Real:\t [8 8 9 0 2 6 0 7 3 2 0 9 9 4 1 8 5 4 3 6]\n",
      "\n",
      "Epoch 400\n",
      "Accuracy: 0.8980654761904762\n",
      "Preds:\t [9 8 9 0 2 6 0 7 8 2 0 9 9 4 1 8 5 9 3 6]\n",
      "Real:\t [8 8 9 0 2 6 0 7 3 2 0 9 9 4 1 8 5 4 3 6]\n",
      "\n",
      "Epoch 450\n",
      "Accuracy: 0.9017261904761905\n",
      "Preds:\t [9 8 9 0 2 6 0 7 3 2 0 9 9 4 1 8 5 9 3 6]\n",
      "Real:\t [8 8 9 0 2 6 0 7 3 2 0 9 9 4 1 8 5 4 3 6]\n",
      "\n",
      "Epoch 500\n",
      "Accuracy: 0.9003571428571429\n",
      "Preds:\t [9 8 9 0 2 6 0 7 8 2 0 9 9 4 1 8 5 9 3 6]\n",
      "Real:\t [8 8 9 0 2 6 0 7 3 2 0 9 9 4 1 8 5 4 3 6]\n",
      "\n",
      "Epoch 550\n",
      "Accuracy: 0.9074702380952381\n",
      "Preds:\t [5 8 9 0 2 6 0 7 3 2 0 9 9 4 1 8 5 9 3 6]\n",
      "Real:\t [8 8 9 0 2 6 0 7 3 2 0 9 9 4 1 8 5 4 3 6]\n",
      "\n",
      "Epoch 600\n",
      "Accuracy: 0.9121130952380953\n",
      "Preds:\t [5 8 9 0 2 6 0 7 8 2 0 9 9 4 1 8 5 9 3 6]\n",
      "Real:\t [8 8 9 0 2 6 0 7 3 2 0 9 9 4 1 8 5 4 3 6]\n",
      "\n",
      "Epoch 650\n",
      "Accuracy: 0.915\n",
      "Preds:\t [5 8 9 0 2 6 0 7 8 2 0 9 9 4 1 8 5 9 3 6]\n",
      "Real:\t [8 8 9 0 2 6 0 7 3 2 0 9 9 4 1 8 5 4 3 6]\n",
      "\n",
      "Epoch 700\n",
      "Accuracy: 0.9160119047619047\n",
      "Preds:\t [5 8 9 0 2 6 0 7 8 2 0 9 9 4 1 8 5 9 3 6]\n",
      "Real:\t [8 8 9 0 2 6 0 7 3 2 0 9 9 4 1 8 5 4 3 6]\n",
      "\n",
      "Epoch 750\n",
      "Accuracy: 0.9186309523809524\n",
      "Preds:\t [5 8 9 0 2 6 0 7 8 2 0 9 9 4 1 8 5 9 3 6]\n",
      "Real:\t [8 8 9 0 2 6 0 7 3 2 0 9 9 4 1 8 5 4 3 6]\n",
      "\n",
      "Epoch 800\n",
      "Accuracy: 0.9197916666666667\n",
      "Preds:\t [5 8 9 0 2 6 0 7 8 2 0 9 9 4 1 8 5 9 3 6]\n",
      "Real:\t [8 8 9 0 2 6 0 7 3 2 0 9 9 4 1 8 5 4 3 6]\n",
      "\n",
      "Epoch 850\n",
      "Accuracy: 0.9197916666666667\n",
      "Preds:\t [5 8 9 0 2 6 0 7 8 2 0 9 9 4 1 8 5 9 3 6]\n",
      "Real:\t [8 8 9 0 2 6 0 7 3 2 0 9 9 4 1 8 5 4 3 6]\n",
      "\n",
      "Epoch 900\n",
      "Accuracy: 0.9216071428571428\n",
      "Preds:\t [5 8 9 0 2 6 0 7 8 2 0 9 9 4 1 8 5 9 3 6]\n",
      "Real:\t [8 8 9 0 2 6 0 7 3 2 0 9 9 4 1 8 5 4 3 6]\n",
      "\n",
      "Epoch 950\n",
      "Accuracy: 0.9235714285714286\n",
      "Preds:\t [5 8 9 0 2 6 0 7 8 2 0 9 9 4 1 8 5 9 3 6]\n",
      "Real:\t [8 8 9 0 2 6 0 7 3 2 0 9 9 4 1 8 5 4 3 6]\n",
      "\n",
      "Epoch 1000\n",
      "Accuracy: 0.9249404761904761\n",
      "Preds:\t [5 8 9 0 2 6 0 7 8 2 0 9 9 4 1 8 5 9 3 6]\n",
      "Real:\t [8 8 9 0 2 6 0 7 3 2 0 9 9 4 1 8 5 4 3 6]\n",
      "\n"
     ]
    }
   ],
   "source": [
    "net.train(X_train, y_train)"
   ]
  },
  {
   "cell_type": "code",
   "execution_count": 8,
   "metadata": {},
   "outputs": [
    {
     "data": {
      "text/plain": [
       "0.9135714285714286"
      ]
     },
     "execution_count": 8,
     "metadata": {},
     "output_type": "execute_result"
    }
   ],
   "source": [
    "preds = net.predict(X_test)\n",
    "\n",
    "get_accuracy(y_test, preds)"
   ]
  }
 ],
 "metadata": {
  "kernelspec": {
   "display_name": "3.12.2",
   "language": "python",
   "name": "python3"
  },
  "language_info": {
   "codemirror_mode": {
    "name": "ipython",
    "version": 3
   },
   "file_extension": ".py",
   "mimetype": "text/x-python",
   "name": "python",
   "nbconvert_exporter": "python",
   "pygments_lexer": "ipython3",
   "version": "3.12.2"
  }
 },
 "nbformat": 4,
 "nbformat_minor": 2
}
